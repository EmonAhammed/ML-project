{
 "cells": [
  {
   "cell_type": "code",
   "execution_count": 19,
   "id": "6708acd0",
   "metadata": {},
   "outputs": [],
   "source": [
    "import pandas as pd"
   ]
  },
  {
   "cell_type": "code",
   "execution_count": 20,
   "id": "f12ba2d2",
   "metadata": {},
   "outputs": [],
   "source": [
    "\n",
    "df = pd.read_csv('train-binary with spam non spam.csv')\n"
   ]
  },
  {
   "cell_type": "code",
   "execution_count": 21,
   "id": "40cb14ac",
   "metadata": {},
   "outputs": [
    {
     "data": {
      "text/html": [
       "<div>\n",
       "<style scoped>\n",
       "    .dataframe tbody tr th:only-of-type {\n",
       "        vertical-align: middle;\n",
       "    }\n",
       "\n",
       "    .dataframe tbody tr th {\n",
       "        vertical-align: top;\n",
       "    }\n",
       "\n",
       "    .dataframe thead th {\n",
       "        text-align: right;\n",
       "    }\n",
       "</style>\n",
       "<table border=\"1\" class=\"dataframe\">\n",
       "  <thead>\n",
       "    <tr style=\"text-align: right;\">\n",
       "      <th></th>\n",
       "      <th>Unnamed: 0</th>\n",
       "      <th>cleaned</th>\n",
       "      <th>Class</th>\n",
       "      <th>Label</th>\n",
       "    </tr>\n",
       "  </thead>\n",
       "  <tbody>\n",
       "    <tr>\n",
       "      <th>0</th>\n",
       "      <td>0</td>\n",
       "      <td>বিএনপির এই ত্যাজঅহংকার এখন কোথায় সবকিছুরই পতন ...</td>\n",
       "      <td>Spam</td>\n",
       "      <td>1</td>\n",
       "    </tr>\n",
       "    <tr>\n",
       "      <th>1</th>\n",
       "      <td>1</td>\n",
       "      <td>কুরআন কিতাব টাই তো ভুল এবং অন্য ধর্ম থেকে ঝাড়া...</td>\n",
       "      <td>Spam</td>\n",
       "      <td>1</td>\n",
       "    </tr>\n",
       "    <tr>\n",
       "      <th>2</th>\n",
       "      <td>2</td>\n",
       "      <td>বাংলাদেশি খেলোয়ারদের সাথে খারাপ আচরনের জন্য আই...</td>\n",
       "      <td>Non Spam</td>\n",
       "      <td>0</td>\n",
       "    </tr>\n",
       "    <tr>\n",
       "      <th>3</th>\n",
       "      <td>3</td>\n",
       "      <td>ভাই আপনাদের সাথে সম্পূর্ণ এক মতভোট চোর জালেম স...</td>\n",
       "      <td>Spam</td>\n",
       "      <td>1</td>\n",
       "    </tr>\n",
       "    <tr>\n",
       "      <th>4</th>\n",
       "      <td>4</td>\n",
       "      <td>কেনো শুধু শুধু অন্যের ঘাড়ে পা রেখে উপরে উঠতে চ...</td>\n",
       "      <td>Non Spam</td>\n",
       "      <td>0</td>\n",
       "    </tr>\n",
       "    <tr>\n",
       "      <th>...</th>\n",
       "      <td>...</td>\n",
       "      <td>...</td>\n",
       "      <td>...</td>\n",
       "      <td>...</td>\n",
       "    </tr>\n",
       "    <tr>\n",
       "      <th>11321</th>\n",
       "      <td>11321</td>\n",
       "      <td>সুবর্ণা মুস্তফার সাথে একবার হুমায়ুন ফরিদীর প্র...</td>\n",
       "      <td>Non Spam</td>\n",
       "      <td>0</td>\n",
       "    </tr>\n",
       "    <tr>\n",
       "      <th>11322</th>\n",
       "      <td>11322</td>\n",
       "      <td>দেশে মুঠোফোনের যাত্রা শুরুর পর তিন দশক কেটে গে...</td>\n",
       "      <td>Non Spam</td>\n",
       "      <td>0</td>\n",
       "    </tr>\n",
       "    <tr>\n",
       "      <th>11323</th>\n",
       "      <td>11323</td>\n",
       "      <td>এই আওয়ামীলীগ প্রবাসীদের জীবনটা অতিষ্ঠ করে ফেলে...</td>\n",
       "      <td>Spam</td>\n",
       "      <td>1</td>\n",
       "    </tr>\n",
       "    <tr>\n",
       "      <th>11324</th>\n",
       "      <td>11324</td>\n",
       "      <td>শীতের শেষে সবজির দাম যতটা কমে এবার ততটা কমেনি ...</td>\n",
       "      <td>Non Spam</td>\n",
       "      <td>0</td>\n",
       "    </tr>\n",
       "    <tr>\n",
       "      <th>11325</th>\n",
       "      <td>11325</td>\n",
       "      <td>সুবর্ন অফার ই-মেইল খুলুন</td>\n",
       "      <td>Non Spam</td>\n",
       "      <td>0</td>\n",
       "    </tr>\n",
       "  </tbody>\n",
       "</table>\n",
       "<p>11326 rows × 4 columns</p>\n",
       "</div>"
      ],
      "text/plain": [
       "       Unnamed: 0                                            cleaned  \\\n",
       "0               0  বিএনপির এই ত্যাজঅহংকার এখন কোথায় সবকিছুরই পতন ...   \n",
       "1               1  কুরআন কিতাব টাই তো ভুল এবং অন্য ধর্ম থেকে ঝাড়া...   \n",
       "2               2  বাংলাদেশি খেলোয়ারদের সাথে খারাপ আচরনের জন্য আই...   \n",
       "3               3  ভাই আপনাদের সাথে সম্পূর্ণ এক মতভোট চোর জালেম স...   \n",
       "4               4  কেনো শুধু শুধু অন্যের ঘাড়ে পা রেখে উপরে উঠতে চ...   \n",
       "...           ...                                                ...   \n",
       "11321       11321  সুবর্ণা মুস্তফার সাথে একবার হুমায়ুন ফরিদীর প্র...   \n",
       "11322       11322  দেশে মুঠোফোনের যাত্রা শুরুর পর তিন দশক কেটে গে...   \n",
       "11323       11323  এই আওয়ামীলীগ প্রবাসীদের জীবনটা অতিষ্ঠ করে ফেলে...   \n",
       "11324       11324  শীতের শেষে সবজির দাম যতটা কমে এবার ততটা কমেনি ...   \n",
       "11325       11325                           সুবর্ন অফার ই-মেইল খুলুন   \n",
       "\n",
       "          Class  Label  \n",
       "0          Spam      1  \n",
       "1          Spam      1  \n",
       "2      Non Spam      0  \n",
       "3          Spam      1  \n",
       "4      Non Spam      0  \n",
       "...         ...    ...  \n",
       "11321  Non Spam      0  \n",
       "11322  Non Spam      0  \n",
       "11323      Spam      1  \n",
       "11324  Non Spam      0  \n",
       "11325  Non Spam      0  \n",
       "\n",
       "[11326 rows x 4 columns]"
      ]
     },
     "execution_count": 21,
     "metadata": {},
     "output_type": "execute_result"
    }
   ],
   "source": [
    "df"
   ]
  },
  {
   "cell_type": "code",
   "execution_count": 22,
   "id": "56d0afc6",
   "metadata": {},
   "outputs": [
    {
     "data": {
      "text/plain": [
       "pandas.core.frame.DataFrame"
      ]
     },
     "execution_count": 22,
     "metadata": {},
     "output_type": "execute_result"
    }
   ],
   "source": [
    "type(df)"
   ]
  },
  {
   "cell_type": "code",
   "execution_count": 24,
   "id": "94edf880",
   "metadata": {},
   "outputs": [
    {
     "data": {
      "text/html": [
       "<div>\n",
       "<style scoped>\n",
       "    .dataframe tbody tr th:only-of-type {\n",
       "        vertical-align: middle;\n",
       "    }\n",
       "\n",
       "    .dataframe tbody tr th {\n",
       "        vertical-align: top;\n",
       "    }\n",
       "\n",
       "    .dataframe thead th {\n",
       "        text-align: right;\n",
       "    }\n",
       "</style>\n",
       "<table border=\"1\" class=\"dataframe\">\n",
       "  <thead>\n",
       "    <tr style=\"text-align: right;\">\n",
       "      <th></th>\n",
       "      <th>Unnamed: 0</th>\n",
       "      <th>cleaned</th>\n",
       "      <th>Class</th>\n",
       "      <th>Label</th>\n",
       "    </tr>\n",
       "  </thead>\n",
       "  <tbody>\n",
       "    <tr>\n",
       "      <th>11321</th>\n",
       "      <td>11321</td>\n",
       "      <td>সুবর্ণা মুস্তফার সাথে একবার হুমায়ুন ফরিদীর প্র...</td>\n",
       "      <td>Non Spam</td>\n",
       "      <td>0</td>\n",
       "    </tr>\n",
       "    <tr>\n",
       "      <th>11322</th>\n",
       "      <td>11322</td>\n",
       "      <td>দেশে মুঠোফোনের যাত্রা শুরুর পর তিন দশক কেটে গে...</td>\n",
       "      <td>Non Spam</td>\n",
       "      <td>0</td>\n",
       "    </tr>\n",
       "    <tr>\n",
       "      <th>11323</th>\n",
       "      <td>11323</td>\n",
       "      <td>এই আওয়ামীলীগ প্রবাসীদের জীবনটা অতিষ্ঠ করে ফেলে...</td>\n",
       "      <td>Spam</td>\n",
       "      <td>1</td>\n",
       "    </tr>\n",
       "    <tr>\n",
       "      <th>11324</th>\n",
       "      <td>11324</td>\n",
       "      <td>শীতের শেষে সবজির দাম যতটা কমে এবার ততটা কমেনি ...</td>\n",
       "      <td>Non Spam</td>\n",
       "      <td>0</td>\n",
       "    </tr>\n",
       "    <tr>\n",
       "      <th>11325</th>\n",
       "      <td>11325</td>\n",
       "      <td>সুবর্ন অফার ই-মেইল খুলুন</td>\n",
       "      <td>Non Spam</td>\n",
       "      <td>0</td>\n",
       "    </tr>\n",
       "  </tbody>\n",
       "</table>\n",
       "</div>"
      ],
      "text/plain": [
       "       Unnamed: 0                                            cleaned  \\\n",
       "11321       11321  সুবর্ণা মুস্তফার সাথে একবার হুমায়ুন ফরিদীর প্র...   \n",
       "11322       11322  দেশে মুঠোফোনের যাত্রা শুরুর পর তিন দশক কেটে গে...   \n",
       "11323       11323  এই আওয়ামীলীগ প্রবাসীদের জীবনটা অতিষ্ঠ করে ফেলে...   \n",
       "11324       11324  শীতের শেষে সবজির দাম যতটা কমে এবার ততটা কমেনি ...   \n",
       "11325       11325                           সুবর্ন অফার ই-মেইল খুলুন   \n",
       "\n",
       "          Class  Label  \n",
       "11321  Non Spam      0  \n",
       "11322  Non Spam      0  \n",
       "11323      Spam      1  \n",
       "11324  Non Spam      0  \n",
       "11325  Non Spam      0  "
      ]
     },
     "execution_count": 24,
     "metadata": {},
     "output_type": "execute_result"
    }
   ],
   "source": [
    "df.tail()"
   ]
  },
  {
   "cell_type": "code",
   "execution_count": 26,
   "id": "73759b8d",
   "metadata": {},
   "outputs": [
    {
     "data": {
      "text/html": [
       "<div>\n",
       "<style scoped>\n",
       "    .dataframe tbody tr th:only-of-type {\n",
       "        vertical-align: middle;\n",
       "    }\n",
       "\n",
       "    .dataframe tbody tr th {\n",
       "        vertical-align: top;\n",
       "    }\n",
       "\n",
       "    .dataframe thead th {\n",
       "        text-align: right;\n",
       "    }\n",
       "</style>\n",
       "<table border=\"1\" class=\"dataframe\">\n",
       "  <thead>\n",
       "    <tr style=\"text-align: right;\">\n",
       "      <th></th>\n",
       "      <th>Unnamed: 0</th>\n",
       "      <th>cleaned</th>\n",
       "      <th>Class</th>\n",
       "      <th>Label</th>\n",
       "    </tr>\n",
       "  </thead>\n",
       "  <tbody>\n",
       "    <tr>\n",
       "      <th>0</th>\n",
       "      <td>0</td>\n",
       "      <td>বিএনপির এই ত্যাজঅহংকার এখন কোথায় সবকিছুরই পতন ...</td>\n",
       "      <td>Spam</td>\n",
       "      <td>1</td>\n",
       "    </tr>\n",
       "    <tr>\n",
       "      <th>1</th>\n",
       "      <td>1</td>\n",
       "      <td>কুরআন কিতাব টাই তো ভুল এবং অন্য ধর্ম থেকে ঝাড়া...</td>\n",
       "      <td>Spam</td>\n",
       "      <td>1</td>\n",
       "    </tr>\n",
       "    <tr>\n",
       "      <th>2</th>\n",
       "      <td>2</td>\n",
       "      <td>বাংলাদেশি খেলোয়ারদের সাথে খারাপ আচরনের জন্য আই...</td>\n",
       "      <td>Non Spam</td>\n",
       "      <td>0</td>\n",
       "    </tr>\n",
       "    <tr>\n",
       "      <th>3</th>\n",
       "      <td>3</td>\n",
       "      <td>ভাই আপনাদের সাথে সম্পূর্ণ এক মতভোট চোর জালেম স...</td>\n",
       "      <td>Spam</td>\n",
       "      <td>1</td>\n",
       "    </tr>\n",
       "    <tr>\n",
       "      <th>4</th>\n",
       "      <td>4</td>\n",
       "      <td>কেনো শুধু শুধু অন্যের ঘাড়ে পা রেখে উপরে উঠতে চ...</td>\n",
       "      <td>Non Spam</td>\n",
       "      <td>0</td>\n",
       "    </tr>\n",
       "    <tr>\n",
       "      <th>5</th>\n",
       "      <td>5</td>\n",
       "      <td>খানকির পুলা বড়  বড় ই-মেইল দিয়া তো ঝারি চুদাইলি...</td>\n",
       "      <td>Spam</td>\n",
       "      <td>1</td>\n",
       "    </tr>\n",
       "    <tr>\n",
       "      <th>6</th>\n",
       "      <td>6</td>\n",
       "      <td>সুন্দর পরিবেশ তৈরি করতে হবে সিনামা হল নোংরা পর...</td>\n",
       "      <td>Non Spam</td>\n",
       "      <td>0</td>\n",
       "    </tr>\n",
       "    <tr>\n",
       "      <th>7</th>\n",
       "      <td>7</td>\n",
       "      <td>আমি এই জায়গা একটি বিশেষ ফ্যান ছিল না কাজ পরে ...</td>\n",
       "      <td>Non Spam</td>\n",
       "      <td>0</td>\n",
       "    </tr>\n",
       "    <tr>\n",
       "      <th>8</th>\n",
       "      <td>8</td>\n",
       "      <td>কিন্তু এই পোড়া ভূখন্ডে অমন মানবিক মুগ্ধতা জাগা...</td>\n",
       "      <td>Non Spam</td>\n",
       "      <td>0</td>\n",
       "    </tr>\n",
       "    <tr>\n",
       "      <th>9</th>\n",
       "      <td>9</td>\n",
       "      <td>এই কাংকির ছেলে রাজাকার সবাই তো কুত্তালীগ করে এ...</td>\n",
       "      <td>Spam</td>\n",
       "      <td>1</td>\n",
       "    </tr>\n",
       "  </tbody>\n",
       "</table>\n",
       "</div>"
      ],
      "text/plain": [
       "   Unnamed: 0                                            cleaned     Class  \\\n",
       "0           0  বিএনপির এই ত্যাজঅহংকার এখন কোথায় সবকিছুরই পতন ...      Spam   \n",
       "1           1  কুরআন কিতাব টাই তো ভুল এবং অন্য ধর্ম থেকে ঝাড়া...      Spam   \n",
       "2           2  বাংলাদেশি খেলোয়ারদের সাথে খারাপ আচরনের জন্য আই...  Non Spam   \n",
       "3           3  ভাই আপনাদের সাথে সম্পূর্ণ এক মতভোট চোর জালেম স...      Spam   \n",
       "4           4  কেনো শুধু শুধু অন্যের ঘাড়ে পা রেখে উপরে উঠতে চ...  Non Spam   \n",
       "5           5  খানকির পুলা বড়  বড় ই-মেইল দিয়া তো ঝারি চুদাইলি...      Spam   \n",
       "6           6  সুন্দর পরিবেশ তৈরি করতে হবে সিনামা হল নোংরা পর...  Non Spam   \n",
       "7           7  আমি এই জায়গা একটি বিশেষ ফ্যান ছিল না কাজ পরে ...  Non Spam   \n",
       "8           8  কিন্তু এই পোড়া ভূখন্ডে অমন মানবিক মুগ্ধতা জাগা...  Non Spam   \n",
       "9           9  এই কাংকির ছেলে রাজাকার সবাই তো কুত্তালীগ করে এ...      Spam   \n",
       "\n",
       "   Label  \n",
       "0      1  \n",
       "1      1  \n",
       "2      0  \n",
       "3      1  \n",
       "4      0  \n",
       "5      1  \n",
       "6      0  \n",
       "7      0  \n",
       "8      0  \n",
       "9      1  "
      ]
     },
     "execution_count": 26,
     "metadata": {},
     "output_type": "execute_result"
    }
   ],
   "source": [
    "df.head(10)"
   ]
  },
  {
   "cell_type": "code",
   "execution_count": 27,
   "id": "4ca1f9da",
   "metadata": {},
   "outputs": [
    {
     "data": {
      "text/plain": [
       "array([[0,\n",
       "        'বিএনপির এই ত্যাজঅহংকার এখন কোথায় সবকিছুরই পতন হয় বর্তমান সময়ই তার প্রতিচ্ছবি বিএনপির স্থান সংসদ নয়',\n",
       "        'Spam', 1],\n",
       "       [1,\n",
       "        'কুরআন কিতাব টাই তো ভুল এবং অন্য ধর্ম থেকে ঝাড়া আল্লাহ তো কাল্পনিক চরিত্র যার কোনো অস্তিত্বই নেই আর তাকে নিয়েই যত ঝামেলা খুনোখুনি',\n",
       "        'Spam', 1],\n",
       "       [2,\n",
       "        'বাংলাদেশি খেলোয়ারদের সাথে খারাপ আচরনের জন্য আইসিসি আদালতে শ্রীলঙ্কার বিরুদ্ধে মামলা কর হোক',\n",
       "        'Non Spam', 0],\n",
       "       ...,\n",
       "       [11323,\n",
       "        'এই আওয়ামীলীগ প্রবাসীদের জীবনটা অতিষ্ঠ করে ফেলেছে এখন প্রবাসীরা বিদেশের মাটিতে হুুমকির মুখে',\n",
       "        'Spam', 1],\n",
       "       [11324,\n",
       "        'শীতের শেষে সবজির দাম যতটা কমে এবার ততটা কমেনি শীতকালে সবজির দাম কেমন তার বেঞ্চমার্ক বা নির্দেশক মাঝারি আকারের একটি ফুলকপি এখনো ৩০ টাকার কমে পাওয়া যাচ্ছে না ছোট একটি লাউয়ের দামও ৮০ টাকা',\n",
       "        'Non Spam', 0],\n",
       "       [11325, 'সুবর্ন অফার ই-মেইল খুলুন', 'Non Spam', 0]], dtype=object)"
      ]
     },
     "execution_count": 27,
     "metadata": {},
     "output_type": "execute_result"
    }
   ],
   "source": [
    "df.values"
   ]
  },
  {
   "cell_type": "code",
   "execution_count": 37,
   "id": "c030f615",
   "metadata": {},
   "outputs": [
    {
     "data": {
      "text/plain": [
       "Index(['Unnamed: 0', 'cleaned', 'Class', 'Label'], dtype='object')"
      ]
     },
     "execution_count": 37,
     "metadata": {},
     "output_type": "execute_result"
    }
   ],
   "source": [
    "df.columns"
   ]
  },
  {
   "cell_type": "code",
   "execution_count": 39,
   "id": "97a8de90",
   "metadata": {},
   "outputs": [
    {
     "data": {
      "text/plain": [
       "0            Spam\n",
       "1            Spam\n",
       "2        Non Spam\n",
       "3            Spam\n",
       "4        Non Spam\n",
       "           ...   \n",
       "11321    Non Spam\n",
       "11322    Non Spam\n",
       "11323        Spam\n",
       "11324    Non Spam\n",
       "11325    Non Spam\n",
       "Name: Class, Length: 11326, dtype: object"
      ]
     },
     "execution_count": 39,
     "metadata": {},
     "output_type": "execute_result"
    }
   ],
   "source": [
    "df.Class"
   ]
  },
  {
   "cell_type": "code",
   "execution_count": 42,
   "id": "f5bd5d83",
   "metadata": {},
   "outputs": [],
   "source": [
    "df.Unnamed: 0"
   ]
  },
  {
   "cell_type": "code",
   "execution_count": 43,
   "id": "3f87bcd3",
   "metadata": {},
   "outputs": [
    {
     "data": {
      "text/plain": [
       "<bound method DataFrame.corr of        Unnamed: 0                                            cleaned  \\\n",
       "0               0  বিএনপির এই ত্যাজঅহংকার এখন কোথায় সবকিছুরই পতন ...   \n",
       "1               1  কুরআন কিতাব টাই তো ভুল এবং অন্য ধর্ম থেকে ঝাড়া...   \n",
       "2               2  বাংলাদেশি খেলোয়ারদের সাথে খারাপ আচরনের জন্য আই...   \n",
       "3               3  ভাই আপনাদের সাথে সম্পূর্ণ এক মতভোট চোর জালেম স...   \n",
       "4               4  কেনো শুধু শুধু অন্যের ঘাড়ে পা রেখে উপরে উঠতে চ...   \n",
       "...           ...                                                ...   \n",
       "11321       11321  সুবর্ণা মুস্তফার সাথে একবার হুমায়ুন ফরিদীর প্র...   \n",
       "11322       11322  দেশে মুঠোফোনের যাত্রা শুরুর পর তিন দশক কেটে গে...   \n",
       "11323       11323  এই আওয়ামীলীগ প্রবাসীদের জীবনটা অতিষ্ঠ করে ফেলে...   \n",
       "11324       11324  শীতের শেষে সবজির দাম যতটা কমে এবার ততটা কমেনি ...   \n",
       "11325       11325                           সুবর্ন অফার ই-মেইল খুলুন   \n",
       "\n",
       "          Class  Label  \n",
       "0          Spam      1  \n",
       "1          Spam      1  \n",
       "2      Non Spam      0  \n",
       "3          Spam      1  \n",
       "4      Non Spam      0  \n",
       "...         ...    ...  \n",
       "11321  Non Spam      0  \n",
       "11322  Non Spam      0  \n",
       "11323      Spam      1  \n",
       "11324  Non Spam      0  \n",
       "11325  Non Spam      0  \n",
       "\n",
       "[11326 rows x 4 columns]>"
      ]
     },
     "execution_count": 43,
     "metadata": {},
     "output_type": "execute_result"
    }
   ],
   "source": [
    "df.corr"
   ]
  },
  {
   "cell_type": "code",
   "execution_count": 44,
   "id": "243939f2",
   "metadata": {},
   "outputs": [
    {
     "data": {
      "text/plain": [
       "<AxesSubplot:>"
      ]
     },
     "execution_count": 44,
     "metadata": {},
     "output_type": "execute_result"
    },
    {
     "data": {
      "image/png": "[encoded data removed]",
      "text/plain": [
       "<Figure size 640x480 with 2 Axes>"
      ]
     },
     "metadata": {},
     "output_type": "display_data"
    }
   ],
   "source": [
    "import seaborn as sns\n",
    "sns.heatmap(df.corr(),annot =True)"
   ]
  },
  {
   "cell_type": "code",
   "execution_count": 45,
   "id": "d2c21456",
   "metadata": {},
   "outputs": [
    {
     "data": {
      "text/plain": [
       "0        বিএনপির এই ত্যাজঅহংকার এখন কোথায় সবকিছুরই পতন ...\n",
       "1        কুরআন কিতাব টাই তো ভুল এবং অন্য ধর্ম থেকে ঝাড়া...\n",
       "2        বাংলাদেশি খেলোয়ারদের সাথে খারাপ আচরনের জন্য আই...\n",
       "3        ভাই আপনাদের সাথে সম্পূর্ণ এক মতভোট চোর জালেম স...\n",
       "4        কেনো শুধু শুধু অন্যের ঘাড়ে পা রেখে উপরে উঠতে চ...\n",
       "                               ...                        \n",
       "11321    সুবর্ণা মুস্তফার সাথে একবার হুমায়ুন ফরিদীর প্র...\n",
       "11322    দেশে মুঠোফোনের যাত্রা শুরুর পর তিন দশক কেটে গে...\n",
       "11323    এই আওয়ামীলীগ প্রবাসীদের জীবনটা অতিষ্ঠ করে ফেলে...\n",
       "11324    শীতের শেষে সবজির দাম যতটা কমে এবার ততটা কমেনি ...\n",
       "11325                             সুবর্ন অফার ই-মেইল খুলুন\n",
       "Name: cleaned, Length: 11326, dtype: object"
      ]
     },
     "execution_count": 45,
     "metadata": {},
     "output_type": "execute_result"
    }
   ],
   "source": [
    "df.cleaned"
   ]
  },
  {
   "cell_type": "code",
   "execution_count": 46,
   "id": "1734a76a",
   "metadata": {},
   "outputs": [
    {
     "data": {
      "text/html": [
       "<div>\n",
       "<style scoped>\n",
       "    .dataframe tbody tr th:only-of-type {\n",
       "        vertical-align: middle;\n",
       "    }\n",
       "\n",
       "    .dataframe tbody tr th {\n",
       "        vertical-align: top;\n",
       "    }\n",
       "\n",
       "    .dataframe thead th {\n",
       "        text-align: right;\n",
       "    }\n",
       "</style>\n",
       "<table border=\"1\" class=\"dataframe\">\n",
       "  <thead>\n",
       "    <tr style=\"text-align: right;\">\n",
       "      <th></th>\n",
       "      <th>Unnamed: 0</th>\n",
       "      <th>cleaned</th>\n",
       "      <th>Class</th>\n",
       "      <th>Label</th>\n",
       "    </tr>\n",
       "  </thead>\n",
       "  <tbody>\n",
       "  </tbody>\n",
       "</table>\n",
       "</div>"
      ],
      "text/plain": [
       "Empty DataFrame\n",
       "Columns: [Unnamed: 0, cleaned, Class, Label]\n",
       "Index: []"
      ]
     },
     "execution_count": 46,
     "metadata": {},
     "output_type": "execute_result"
    }
   ],
   "source": [
    "df[(df['cleaned']=='বিএনপির ')]"
   ]
  },
  {
   "cell_type": "code",
   "execution_count": 47,
   "id": "cd9c5c7e",
   "metadata": {},
   "outputs": [
    {
     "data": {
      "text/html": [
       "<div>\n",
       "<style scoped>\n",
       "    .dataframe tbody tr th:only-of-type {\n",
       "        vertical-align: middle;\n",
       "    }\n",
       "\n",
       "    .dataframe tbody tr th {\n",
       "        vertical-align: top;\n",
       "    }\n",
       "\n",
       "    .dataframe thead th {\n",
       "        text-align: right;\n",
       "    }\n",
       "</style>\n",
       "<table border=\"1\" class=\"dataframe\">\n",
       "  <thead>\n",
       "    <tr style=\"text-align: right;\">\n",
       "      <th></th>\n",
       "      <th>Unnamed: 0</th>\n",
       "      <th>cleaned</th>\n",
       "      <th>Class</th>\n",
       "      <th>Label</th>\n",
       "    </tr>\n",
       "  </thead>\n",
       "  <tbody>\n",
       "    <tr>\n",
       "      <th>0</th>\n",
       "      <td>0</td>\n",
       "      <td>বিএনপির এই ত্যাজঅহংকার এখন কোথায় সবকিছুরই পতন ...</td>\n",
       "      <td>Spam</td>\n",
       "      <td>1</td>\n",
       "    </tr>\n",
       "    <tr>\n",
       "      <th>1</th>\n",
       "      <td>1</td>\n",
       "      <td>কুরআন কিতাব টাই তো ভুল এবং অন্য ধর্ম থেকে ঝাড়া...</td>\n",
       "      <td>Spam</td>\n",
       "      <td>1</td>\n",
       "    </tr>\n",
       "    <tr>\n",
       "      <th>2</th>\n",
       "      <td>2</td>\n",
       "      <td>বাংলাদেশি খেলোয়ারদের সাথে খারাপ আচরনের জন্য আই...</td>\n",
       "      <td>Non Spam</td>\n",
       "      <td>0</td>\n",
       "    </tr>\n",
       "    <tr>\n",
       "      <th>3</th>\n",
       "      <td>3</td>\n",
       "      <td>ভাই আপনাদের সাথে সম্পূর্ণ এক মতভোট চোর জালেম স...</td>\n",
       "      <td>Spam</td>\n",
       "      <td>1</td>\n",
       "    </tr>\n",
       "    <tr>\n",
       "      <th>4</th>\n",
       "      <td>4</td>\n",
       "      <td>কেনো শুধু শুধু অন্যের ঘাড়ে পা রেখে উপরে উঠতে চ...</td>\n",
       "      <td>Non Spam</td>\n",
       "      <td>0</td>\n",
       "    </tr>\n",
       "    <tr>\n",
       "      <th>...</th>\n",
       "      <td>...</td>\n",
       "      <td>...</td>\n",
       "      <td>...</td>\n",
       "      <td>...</td>\n",
       "    </tr>\n",
       "    <tr>\n",
       "      <th>11321</th>\n",
       "      <td>11321</td>\n",
       "      <td>সুবর্ণা মুস্তফার সাথে একবার হুমায়ুন ফরিদীর প্র...</td>\n",
       "      <td>Non Spam</td>\n",
       "      <td>0</td>\n",
       "    </tr>\n",
       "    <tr>\n",
       "      <th>11322</th>\n",
       "      <td>11322</td>\n",
       "      <td>দেশে মুঠোফোনের যাত্রা শুরুর পর তিন দশক কেটে গে...</td>\n",
       "      <td>Non Spam</td>\n",
       "      <td>0</td>\n",
       "    </tr>\n",
       "    <tr>\n",
       "      <th>11323</th>\n",
       "      <td>11323</td>\n",
       "      <td>এই আওয়ামীলীগ প্রবাসীদের জীবনটা অতিষ্ঠ করে ফেলে...</td>\n",
       "      <td>Spam</td>\n",
       "      <td>1</td>\n",
       "    </tr>\n",
       "    <tr>\n",
       "      <th>11324</th>\n",
       "      <td>11324</td>\n",
       "      <td>শীতের শেষে সবজির দাম যতটা কমে এবার ততটা কমেনি ...</td>\n",
       "      <td>Non Spam</td>\n",
       "      <td>0</td>\n",
       "    </tr>\n",
       "    <tr>\n",
       "      <th>11325</th>\n",
       "      <td>11325</td>\n",
       "      <td>সুবর্ন অফার ই-মেইল খুলুন</td>\n",
       "      <td>Non Spam</td>\n",
       "      <td>0</td>\n",
       "    </tr>\n",
       "  </tbody>\n",
       "</table>\n",
       "<p>11326 rows × 4 columns</p>\n",
       "</div>"
      ],
      "text/plain": [
       "       Unnamed: 0                                            cleaned  \\\n",
       "0               0  বিএনপির এই ত্যাজঅহংকার এখন কোথায় সবকিছুরই পতন ...   \n",
       "1               1  কুরআন কিতাব টাই তো ভুল এবং অন্য ধর্ম থেকে ঝাড়া...   \n",
       "2               2  বাংলাদেশি খেলোয়ারদের সাথে খারাপ আচরনের জন্য আই...   \n",
       "3               3  ভাই আপনাদের সাথে সম্পূর্ণ এক মতভোট চোর জালেম স...   \n",
       "4               4  কেনো শুধু শুধু অন্যের ঘাড়ে পা রেখে উপরে উঠতে চ...   \n",
       "...           ...                                                ...   \n",
       "11321       11321  সুবর্ণা মুস্তফার সাথে একবার হুমায়ুন ফরিদীর প্র...   \n",
       "11322       11322  দেশে মুঠোফোনের যাত্রা শুরুর পর তিন দশক কেটে গে...   \n",
       "11323       11323  এই আওয়ামীলীগ প্রবাসীদের জীবনটা অতিষ্ঠ করে ফেলে...   \n",
       "11324       11324  শীতের শেষে সবজির দাম যতটা কমে এবার ততটা কমেনি ...   \n",
       "11325       11325                           সুবর্ন অফার ই-মেইল খুলুন   \n",
       "\n",
       "          Class  Label  \n",
       "0          Spam      1  \n",
       "1          Spam      1  \n",
       "2      Non Spam      0  \n",
       "3          Spam      1  \n",
       "4      Non Spam      0  \n",
       "...         ...    ...  \n",
       "11321  Non Spam      0  \n",
       "11322  Non Spam      0  \n",
       "11323      Spam      1  \n",
       "11324  Non Spam      0  \n",
       "11325  Non Spam      0  \n",
       "\n",
       "[11326 rows x 4 columns]"
      ]
     },
     "execution_count": 47,
     "metadata": {},
     "output_type": "execute_result"
    }
   ],
   "source": [
    "df\n"
   ]
  },
  {
   "cell_type": "code",
   "execution_count": null,
   "id": "cdfb6d12",
   "metadata": {},
   "outputs": [],
   "source": []
  }
 ],
 "metadata": {
  "kernelspec": {
   "display_name": "Python 3 (ipykernel)",
   "language": "python",
   "name": "python3"
  },
  "language_info": {
   "codemirror_mode": {
    "name": "ipython",
    "version": 3
   },
   "file_extension": ".py",
   "mimetype": "text/x-python",
   "name": "python",
   "nbconvert_exporter": "python",
   "pygments_lexer": "ipython3",
   "version": "3.9.13"
  }
 },
 "nbformat": 4,
 "nbformat_minor": 5
}
